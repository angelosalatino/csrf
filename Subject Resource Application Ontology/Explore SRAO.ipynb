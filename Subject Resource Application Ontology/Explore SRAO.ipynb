{
 "cells": [
  {
   "cell_type": "markdown",
   "metadata": {},
   "source": [
    "# Analyse SRAO\n",
    "Get the number of concepts and the depth of the ontology\n",
    "\n",
    "It is important to have rdflib, SPARQLWrapper, pandas, and numpy\n",
    "* pip install rdflib\n",
    "* pip install SPARQLWrapper\n",
    "* pip install pandas\n",
    "* pip install numpy\n",
    "\n",
    "Download the lastest version of SRAO from https://github.com/FAIRsharing/subject-ontology"
   ]
  },
  {
   "cell_type": "code",
   "execution_count": 1,
   "metadata": {},
   "outputs": [],
   "source": [
    "from rdflib import Graph\n",
    "from rdflib.namespace import RDFS\n",
    "from rdflib import URIRef\n",
    "import rdflib\n",
    "import json\n",
    "from collections import deque\n",
    "import numpy as np\n",
    "import pandas as pd"
   ]
  },
  {
   "cell_type": "code",
   "execution_count": 2,
   "metadata": {},
   "outputs": [
    {
     "data": {
      "text/plain": [
       "<Graph identifier=N1db71c75890f4cdc959dd6b25d8c7062 (<class 'rdflib.graph.Graph'>)>"
      ]
     },
     "execution_count": 2,
     "metadata": {},
     "output_type": "execute_result"
    }
   ],
   "source": [
    "input_file = \"SRAO.owl\"\n",
    "g = Graph()\n",
    "g.parse(input_file)"
   ]
  },
  {
   "cell_type": "code",
   "execution_count": 3,
   "metadata": {},
   "outputs": [
    {
     "name": "stdout",
     "output_type": "stream",
     "text": [
      "Number of concepts: 425\n"
     ]
    }
   ],
   "source": [
    "qres = g.query(\n",
    "    \"\"\"SELECT DISTINCT ?a\n",
    "       WHERE {\n",
    "          ?a a owl:Class .\n",
    "       }\"\"\")\n",
    "\n",
    "\n",
    "topics = dict()\n",
    "for row in qres:\n",
    "    topics[row[0]] = True\n",
    "    \n",
    "print(\"Number of concepts: {}\".format(len(topics)))"
   ]
  },
  {
   "cell_type": "code",
   "execution_count": 4,
   "metadata": {},
   "outputs": [],
   "source": [
    "qres = g.query(\n",
    "    \"\"\"SELECT DISTINCT ?a ?b\n",
    "       WHERE {\n",
    "          ?a rdfs:subClassOf ?b .\n",
    "       }\"\"\")\n",
    "\n",
    "broaders = dict()\n",
    "narrowers = dict()\n",
    "for row in qres:\n",
    "    if row[0] not in broaders:\n",
    "        broaders[row[0]] = list()\n",
    "    broaders[row[0]].append(row[1])\n",
    "    if row[1] not in narrowers:\n",
    "        narrowers[row[1]] = list()\n",
    "    narrowers[row[1]].append(row[0])"
   ]
  },
  {
   "cell_type": "code",
   "execution_count": 5,
   "metadata": {},
   "outputs": [],
   "source": [
    "unhier = broaders\n",
    "concepts = topics\n",
    "for concept, value in concepts.items():\n",
    "    queue = deque() \n",
    "    max_depth = value\n",
    "    queue.append({\"t\":concept,\"d\":value})\n",
    "    while len(queue) > 0:\n",
    "        dequeued = queue.popleft()\n",
    "        if dequeued[\"t\"] in unhier:\n",
    "            broads = unhier[dequeued[\"t\"]]\n",
    "            new_depth = dequeued[\"d\"]+1\n",
    "            if new_depth > max_depth:\n",
    "                max_depth = new_depth\n",
    "            for broader in broads:\n",
    "                queue.append({\"t\":broader,\"d\":dequeued[\"d\"]+1})\n",
    "    \n",
    "    concepts[concept] = max_depth"
   ]
  },
  {
   "cell_type": "code",
   "execution_count": 6,
   "metadata": {},
   "outputs": [],
   "source": [
    "list_of_depths = pd.DataFrame.from_dict(concepts, orient='index', columns=['depth'])\n",
    "list_of_depths.sort_values('depth', inplace=True, ascending=False)"
   ]
  },
  {
   "cell_type": "code",
   "execution_count": 7,
   "metadata": {},
   "outputs": [
    {
     "name": "stdout",
     "output_type": "stream",
     "text": [
      "Concepts are ranked by maximum depth\n"
     ]
    },
    {
     "data": {
      "text/html": [
       "<div>\n",
       "<style scoped>\n",
       "    .dataframe tbody tr th:only-of-type {\n",
       "        vertical-align: middle;\n",
       "    }\n",
       "\n",
       "    .dataframe tbody tr th {\n",
       "        vertical-align: top;\n",
       "    }\n",
       "\n",
       "    .dataframe thead th {\n",
       "        text-align: right;\n",
       "    }\n",
       "</style>\n",
       "<table border=\"1\" class=\"dataframe\">\n",
       "  <thead>\n",
       "    <tr style=\"text-align: right;\">\n",
       "      <th></th>\n",
       "      <th>depth</th>\n",
       "    </tr>\n",
       "  </thead>\n",
       "  <tbody>\n",
       "    <tr>\n",
       "      <th>http://purl.obolibrary.org/obo/OMIT_0001094</th>\n",
       "      <td>8</td>\n",
       "    </tr>\n",
       "    <tr>\n",
       "      <th>http://www.fairsharing.org/ontology/subject/SRAO_0000315</th>\n",
       "      <td>8</td>\n",
       "    </tr>\n",
       "    <tr>\n",
       "      <th>http://purl.obolibrary.org/obo/NCIT_C20179</th>\n",
       "      <td>8</td>\n",
       "    </tr>\n",
       "    <tr>\n",
       "      <th>http://www.fairsharing.org/ontology/subject/SRAO_0000032</th>\n",
       "      <td>8</td>\n",
       "    </tr>\n",
       "    <tr>\n",
       "      <th>http://edamontology.org/topic_3415</th>\n",
       "      <td>8</td>\n",
       "    </tr>\n",
       "    <tr>\n",
       "      <th>http://edamontology.org/topic_0209</th>\n",
       "      <td>8</td>\n",
       "    </tr>\n",
       "    <tr>\n",
       "      <th>http://www.fairsharing.org/ontology/subject/SRAO_0000176</th>\n",
       "      <td>8</td>\n",
       "    </tr>\n",
       "    <tr>\n",
       "      <th>http://www.fairsharing.org/ontology/subject/SRAO_0000303</th>\n",
       "      <td>8</td>\n",
       "    </tr>\n",
       "    <tr>\n",
       "      <th>http://www.fairsharing.org/ontology/subject/SRAO_0000140</th>\n",
       "      <td>8</td>\n",
       "    </tr>\n",
       "    <tr>\n",
       "      <th>http://edamontology.org/topic_3293</th>\n",
       "      <td>8</td>\n",
       "    </tr>\n",
       "    <tr>\n",
       "      <th>http://edamontology.org/topic_0194</th>\n",
       "      <td>8</td>\n",
       "    </tr>\n",
       "    <tr>\n",
       "      <th>http://purl.obolibrary.org/obo/NCIT_C18088</th>\n",
       "      <td>8</td>\n",
       "    </tr>\n",
       "    <tr>\n",
       "      <th>http://purl.obolibrary.org/obo/OMIT_0027298</th>\n",
       "      <td>7</td>\n",
       "    </tr>\n",
       "    <tr>\n",
       "      <th>http://purl.obolibrary.org/obo/OMIT_0024194</th>\n",
       "      <td>7</td>\n",
       "    </tr>\n",
       "    <tr>\n",
       "      <th>http://www.fairsharing.org/ontology/subject/SRAO_0000294</th>\n",
       "      <td>7</td>\n",
       "    </tr>\n",
       "    <tr>\n",
       "      <th>http://edamontology.org/topic_0208</th>\n",
       "      <td>7</td>\n",
       "    </tr>\n",
       "    <tr>\n",
       "      <th>http://edamontology.org/topic_3173</th>\n",
       "      <td>7</td>\n",
       "    </tr>\n",
       "    <tr>\n",
       "      <th>http://purl.obolibrary.org/obo/NCIT_C26633</th>\n",
       "      <td>7</td>\n",
       "    </tr>\n",
       "    <tr>\n",
       "      <th>http://www.fairsharing.org/ontology/subject/SRAO_0000144</th>\n",
       "      <td>7</td>\n",
       "    </tr>\n",
       "    <tr>\n",
       "      <th>http://purl.obolibrary.org/obo/NCIT_C16910</th>\n",
       "      <td>7</td>\n",
       "    </tr>\n",
       "  </tbody>\n",
       "</table>\n",
       "</div>"
      ],
      "text/plain": [
       "                                                    depth\n",
       "http://purl.obolibrary.org/obo/OMIT_0001094             8\n",
       "http://www.fairsharing.org/ontology/subject/SRA...      8\n",
       "http://purl.obolibrary.org/obo/NCIT_C20179              8\n",
       "http://www.fairsharing.org/ontology/subject/SRA...      8\n",
       "http://edamontology.org/topic_3415                      8\n",
       "http://edamontology.org/topic_0209                      8\n",
       "http://www.fairsharing.org/ontology/subject/SRA...      8\n",
       "http://www.fairsharing.org/ontology/subject/SRA...      8\n",
       "http://www.fairsharing.org/ontology/subject/SRA...      8\n",
       "http://edamontology.org/topic_3293                      8\n",
       "http://edamontology.org/topic_0194                      8\n",
       "http://purl.obolibrary.org/obo/NCIT_C18088              8\n",
       "http://purl.obolibrary.org/obo/OMIT_0027298             7\n",
       "http://purl.obolibrary.org/obo/OMIT_0024194             7\n",
       "http://www.fairsharing.org/ontology/subject/SRA...      7\n",
       "http://edamontology.org/topic_0208                      7\n",
       "http://edamontology.org/topic_3173                      7\n",
       "http://purl.obolibrary.org/obo/NCIT_C26633              7\n",
       "http://www.fairsharing.org/ontology/subject/SRA...      7\n",
       "http://purl.obolibrary.org/obo/NCIT_C16910              7"
      ]
     },
     "execution_count": 7,
     "metadata": {},
     "output_type": "execute_result"
    }
   ],
   "source": [
    "print(\"Concepts are ranked by maximum depth\")\n",
    "list_of_depths.head(20)"
   ]
  },
  {
   "cell_type": "code",
   "execution_count": null,
   "metadata": {},
   "outputs": [],
   "source": []
  }
 ],
 "metadata": {
  "kernelspec": {
   "display_name": "Python 3",
   "language": "python",
   "name": "python3"
  },
  "language_info": {
   "codemirror_mode": {
    "name": "ipython",
    "version": 3
   },
   "file_extension": ".py",
   "mimetype": "text/x-python",
   "name": "python",
   "nbconvert_exporter": "python",
   "pygments_lexer": "ipython3",
   "version": "3.7.5"
  }
 },
 "nbformat": 4,
 "nbformat_minor": 4
}
