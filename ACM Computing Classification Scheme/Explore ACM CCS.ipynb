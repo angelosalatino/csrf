{
 "cells": [
  {
   "cell_type": "markdown",
   "metadata": {},
   "source": [
    "# Analyse the ACM Computing Classification Scheme\n",
    "Get the number of concepts and the depth of the ontology\n",
    "\n",
    "It is important to have rdflib, SPARQLWrapper, pandas, tqdm, and numpy\n",
    "* pip install rdflib\n",
    "* pip install SPARQLWrapper\n",
    "* pip install pandas\n",
    "* pip install numpy\n",
    "* pip install tqdm\n",
    "\n",
    "\n",
    "The 2012 version of ACM CCS is already available in this repository (RDF/XML format).\n",
    "\n",
    "However, you can download the lastest version from https://dl.acm.org/ccs"
   ]
  },
  {
   "cell_type": "markdown",
   "metadata": {},
   "source": [
    "The 2012 ACM Computing Classification System has been developed as a **poly-hierarchical** ontology that can be utilized in semantic web applications. It replaces the traditional 1998 version of the ACM Computing Classification System (CCS), which has served as the de facto standard classification system for the computing field. It is being integrated into the search capabilities and visual topic displays of the Digital Library. It relies on a semantic vocabulary as the single source of categories and concepts that reflect the state of the art of the computing discipline and is receptive to structural change as it evolves in the future. ACM provides a tool within the visual display format to facilitate the application of CCS categories to forthcoming papers and a process to ensure that the CCS stays current and relevant. The CCS visual display has both Interactive and Flat views of the classification tree. You may also opt to download the CCS SKOS file. The new classification system will play a key role in the development of a people search interface in the ACM Digital Library to supplement its current traditional bibliographic search.\n",
    "\n",
    " \n",
    "\n",
    "Authors, an important aspect of preparing your paper for publication by ACM Press is to provide the proper indexing and retrieval information from the ACM Computing Classification System (CCS). This is beneficial to you because accurate categorization provides the reader with quick content reference, facilitating the search for related literature, as well as searches for your work in ACM's Digital Library and on other online resources."
   ]
  },
  {
   "cell_type": "code",
   "execution_count": 1,
   "metadata": {},
   "outputs": [],
   "source": [
    "from rdflib import Graph\n",
    "from rdflib.namespace import RDFS\n",
    "from rdflib import URIRef\n",
    "import rdflib\n",
    "import json\n",
    "from collections import deque\n",
    "import numpy as np\n",
    "from tqdm import tqdm"
   ]
  },
  {
   "cell_type": "code",
   "execution_count": 2,
   "metadata": {},
   "outputs": [
    {
     "data": {
      "text/plain": [
       "<Graph identifier=Na6b9f18f1fdd4c87a04e0a11b16586b1 (<class 'rdflib.graph.Graph'>)>"
      ]
     },
     "execution_count": 2,
     "metadata": {},
     "output_type": "execute_result"
    }
   ],
   "source": [
    "input_file = \"ACM-CCS-2012.xml\"\n",
    "g = Graph()\n",
    "g.parse(input_file)"
   ]
  },
  {
   "cell_type": "code",
   "execution_count": 3,
   "metadata": {},
   "outputs": [],
   "source": [
    "def clean_concept(concept):\n",
    "    return concept.split(\"/\")[-1]"
   ]
  },
  {
   "cell_type": "code",
   "execution_count": 4,
   "metadata": {},
   "outputs": [
    {
     "name": "stdout",
     "output_type": "stream",
     "text": [
      "2113\n"
     ]
    }
   ],
   "source": [
    "qres = g.query(\n",
    "    \"\"\"SELECT DISTINCT ?a\n",
    "       WHERE {\n",
    "          ?a rdf:type skos:Concept .\n",
    "       }\"\"\")\n",
    "topics = dict()\n",
    "for row in qres:\n",
    "    topics[clean_concept(row[0])] = True\n",
    "print(len(topics))  "
   ]
  },
  {
   "cell_type": "code",
   "execution_count": 5,
   "metadata": {},
   "outputs": [],
   "source": [
    "qres = g.query(\n",
    "    \"\"\"SELECT DISTINCT ?a ?b\n",
    "       WHERE {\n",
    "          ?a skos:narrower ?b .\n",
    "       }\"\"\")\n",
    "\n",
    "broaders = dict()\n",
    "narrowers = dict()\n",
    "for row in qres:\n",
    "    if clean_concept(row[0]) not in narrowers:\n",
    "        narrowers[clean_concept(row[0])] = list()\n",
    "    narrowers[clean_concept(row[0])].append(clean_concept(row[1]))\n",
    "    if clean_concept(row[1]) not in broaders:\n",
    "        broaders[clean_concept(row[1])] = list()\n",
    "    broaders[clean_concept(row[1])].append(clean_concept(row[0]))"
   ]
  },
  {
   "cell_type": "markdown",
   "metadata": {},
   "source": [
    "# Checking if it is Polyhierarchical\n",
    "\n",
    "ACM claims that the Computing Classification System is **Poly-hierarchical**"
   ]
  },
  {
   "cell_type": "code",
   "execution_count": 6,
   "metadata": {},
   "outputs": [
    {
     "name": "stdout",
     "output_type": "stream",
     "text": [
      "Found 0 topics that have more than one parent\n"
     ]
    }
   ],
   "source": [
    "count = 0\n",
    "for key, broad in broaders.items():\n",
    "    if (len(broad) > 1):\n",
    "        count += 1\n",
    "        #print(key, broad)\n",
    "        \n",
    "print(\"Found {} topics that have more than one parent\".format(count))"
   ]
  },
  {
   "cell_type": "markdown",
   "metadata": {},
   "source": [
    "# Assessing the depth"
   ]
  },
  {
   "cell_type": "code",
   "execution_count": 7,
   "metadata": {},
   "outputs": [
    {
     "name": "stderr",
     "output_type": "stream",
     "text": [
      "100%|██████████| 2113/2113 [00:00<00:00, 228063.93it/s]\n"
     ]
    }
   ],
   "source": [
    "unhier = broaders\n",
    "concepts = topics\n",
    "with tqdm(total=len(concepts)) as pbar:\n",
    "    for concept, value in concepts.items():       \n",
    "        queue = deque() \n",
    "        max_depth = value\n",
    "        queue.append({\"t\":concept,\"d\":value})\n",
    "        while len(queue) > 0:\n",
    "            dequeued = queue.popleft()\n",
    "            if dequeued[\"t\"] in unhier:\n",
    "                broads = unhier[dequeued[\"t\"]]\n",
    "                new_depth = dequeued[\"d\"]+1\n",
    "                if new_depth > max_depth:\n",
    "                    max_depth = new_depth\n",
    "                for broader in broads:\n",
    "                    queue.append({\"t\":broader,\"d\":dequeued[\"d\"]+1})\n",
    "\n",
    "        concepts[concept] = max_depth\n",
    "        pbar.update(1)"
   ]
  },
  {
   "cell_type": "code",
   "execution_count": 8,
   "metadata": {},
   "outputs": [],
   "source": [
    "import pandas as pd\n",
    "list_of_depths = pd.DataFrame.from_dict(concepts, orient='index', columns=['depth'])"
   ]
  },
  {
   "cell_type": "code",
   "execution_count": 9,
   "metadata": {},
   "outputs": [
    {
     "data": {
      "text/html": [
       "<div>\n",
       "<style scoped>\n",
       "    .dataframe tbody tr th:only-of-type {\n",
       "        vertical-align: middle;\n",
       "    }\n",
       "\n",
       "    .dataframe tbody tr th {\n",
       "        vertical-align: top;\n",
       "    }\n",
       "\n",
       "    .dataframe thead th {\n",
       "        text-align: right;\n",
       "    }\n",
       "</style>\n",
       "<table border=\"1\" class=\"dataframe\">\n",
       "  <thead>\n",
       "    <tr style=\"text-align: right;\">\n",
       "      <th></th>\n",
       "      <th>depth</th>\n",
       "    </tr>\n",
       "  </thead>\n",
       "  <tbody>\n",
       "    <tr>\n",
       "      <th>10011007.10010940.10010941.10010949.10010965.10010968</th>\n",
       "      <td>6</td>\n",
       "    </tr>\n",
       "    <tr>\n",
       "      <th>10003752.10003809.10003716.10011136.10011797.10011798</th>\n",
       "      <td>6</td>\n",
       "    </tr>\n",
       "    <tr>\n",
       "      <th>10011007.10010940.10010941.10010942.10010944.10010947</th>\n",
       "      <td>6</td>\n",
       "    </tr>\n",
       "    <tr>\n",
       "      <th>10011007.10010940.10010941.10010942.10010944.10010946</th>\n",
       "      <td>6</td>\n",
       "    </tr>\n",
       "    <tr>\n",
       "      <th>10011007.10010940.10010941.10010942.10010944.10010945</th>\n",
       "      <td>6</td>\n",
       "    </tr>\n",
       "  </tbody>\n",
       "</table>\n",
       "</div>"
      ],
      "text/plain": [
       "                                                   depth\n",
       "10011007.10010940.10010941.10010949.10010965.10...     6\n",
       "10003752.10003809.10003716.10011136.10011797.10...     6\n",
       "10011007.10010940.10010941.10010942.10010944.10...     6\n",
       "10011007.10010940.10010941.10010942.10010944.10...     6\n",
       "10011007.10010940.10010941.10010942.10010944.10...     6"
      ]
     },
     "execution_count": 9,
     "metadata": {},
     "output_type": "execute_result"
    }
   ],
   "source": [
    "list_of_depths.sort_values('depth', inplace=True, ascending=False)\n",
    "list_of_depths.head()"
   ]
  },
  {
   "cell_type": "markdown",
   "metadata": {},
   "source": [
    "# Top Concepts"
   ]
  },
  {
   "cell_type": "code",
   "execution_count": 10,
   "metadata": {},
   "outputs": [
    {
     "name": "stdout",
     "output_type": "stream",
     "text": [
      "10003033\n",
      "10003752\n",
      "10010147\n",
      "10003456\n",
      "10010520\n",
      "10010583\n",
      "10003120\n",
      "10002944\n",
      "10002950\n",
      "10002951\n",
      "10010405\n",
      "10011007\n",
      "10002978\n"
     ]
    }
   ],
   "source": [
    "top_concepts = set(narrowers.keys())-set(broaders.keys())\n",
    "for concept in top_concepts:\n",
    "    print(concept)"
   ]
  },
  {
   "cell_type": "code",
   "execution_count": null,
   "metadata": {},
   "outputs": [],
   "source": []
  }
 ],
 "metadata": {
  "kernelspec": {
   "display_name": "Python 3",
   "language": "python",
   "name": "python3"
  },
  "language_info": {
   "codemirror_mode": {
    "name": "ipython",
    "version": 3
   },
   "file_extension": ".py",
   "mimetype": "text/x-python",
   "name": "python",
   "nbconvert_exporter": "python",
   "pygments_lexer": "ipython3",
   "version": "3.7.6"
  }
 },
 "nbformat": 4,
 "nbformat_minor": 4
}
