{
 "cells": [
  {
   "cell_type": "markdown",
   "metadata": {},
   "source": [
    "# Analyse the Computer Science Ontology\n",
    "Get the number of concepts and the depth of the ontology\n",
    "\n",
    "It is important to have rdflib, SPARQLWrapper, pandas, tqdm, and numpy\n",
    "* pip install rdflib\n",
    "* pip install SPARQLWrapper\n",
    "* pip install pandas\n",
    "* pip install numpy\n",
    "* pip install tqdm\n",
    "\n",
    "\n",
    "The version 3.3 of CSO is already available in this repository.\n",
    "\n",
    "However, you can download the lastest version from http://cso.kmi.open.ac.uk/downloads"
   ]
  },
  {
   "cell_type": "code",
   "execution_count": 1,
   "metadata": {},
   "outputs": [],
   "source": [
    "from rdflib import Graph\n",
    "from rdflib.namespace import RDFS\n",
    "from rdflib import URIRef\n",
    "import rdflib\n",
    "import json\n",
    "from collections import deque\n",
    "import numpy as np\n",
    "from tqdm import tqdm"
   ]
  },
  {
   "cell_type": "code",
   "execution_count": 2,
   "metadata": {},
   "outputs": [
    {
     "data": {
      "text/plain": [
       "<Graph identifier=N778b8ce0bb4046d0bf3faadb2533d89d (<class 'rdflib.graph.Graph'>)>"
      ]
     },
     "execution_count": 2,
     "metadata": {},
     "output_type": "execute_result"
    }
   ],
   "source": [
    "input_file = \"CSO.3.3.owl\"\n",
    "g = Graph()\n",
    "g.parse(input_file)"
   ]
  },
  {
   "cell_type": "code",
   "execution_count": 3,
   "metadata": {},
   "outputs": [
    {
     "name": "stdout",
     "output_type": "stream",
     "text": [
      "14290\n"
     ]
    }
   ],
   "source": [
    "qres = g.query(\n",
    "    \"\"\"SELECT DISTINCT ?a\n",
    "       WHERE {\n",
    "          ?a rdf:type <http://cso.kmi.open.ac.uk/schema/cso#Topic>\n",
    "       }\"\"\")\n",
    "topics = dict()\n",
    "for row in qres:\n",
    "    topics[row[0]] = True\n",
    "    \n",
    "print(len(topics))  "
   ]
  },
  {
   "cell_type": "code",
   "execution_count": 4,
   "metadata": {},
   "outputs": [],
   "source": [
    "qres = g.query(\n",
    "    \"\"\"SELECT DISTINCT ?a ?b\n",
    "       WHERE {\n",
    "          ?a <http://cso.kmi.open.ac.uk/schema/cso#superTopicOf> ?b .\n",
    "       }\"\"\")\n",
    "\n",
    "broaders = dict()\n",
    "narrowers = dict()\n",
    "for row in qres:\n",
    "    if row[0] not in narrowers:\n",
    "        narrowers[row[0]] = list()\n",
    "    narrowers[row[0]].append(row[1])\n",
    "    if row[1] not in broaders:\n",
    "        broaders[row[1]] = list()\n",
    "    broaders[row[1]].append(row[0])"
   ]
  },
  {
   "cell_type": "markdown",
   "metadata": {},
   "source": [
    "# Checking if it is Polyhierarchical"
   ]
  },
  {
   "cell_type": "code",
   "execution_count": 5,
   "metadata": {},
   "outputs": [
    {
     "name": "stdout",
     "output_type": "stream",
     "text": [
      "Found 9685 topics that have more than one parent\n"
     ]
    }
   ],
   "source": [
    "count = 0\n",
    "for key, broad in broaders.items():\n",
    "    if (len(broad) > 1):\n",
    "        count += 1\n",
    "        #print(key, broad)\n",
    "        \n",
    "print(\"Found {} topics that have more than one parent\".format(count))"
   ]
  },
  {
   "cell_type": "markdown",
   "metadata": {},
   "source": [
    "# Assessing the depth"
   ]
  },
  {
   "cell_type": "code",
   "execution_count": 6,
   "metadata": {},
   "outputs": [
    {
     "name": "stderr",
     "output_type": "stream",
     "text": [
      "100%|██████████| 14290/14290 [00:07<00:00, 1820.71it/s]\n"
     ]
    }
   ],
   "source": [
    "unhier = broaders\n",
    "concepts = topics\n",
    "with tqdm(total=len(concepts)) as pbar:\n",
    "    for concept, value in concepts.items():       \n",
    "        queue = deque() \n",
    "        max_depth = value\n",
    "        queue.append({\"t\":concept,\"d\":value})\n",
    "        while len(queue) > 0:\n",
    "            dequeued = queue.popleft()\n",
    "            if dequeued[\"t\"] in unhier:\n",
    "                broads = unhier[dequeued[\"t\"]]\n",
    "                new_depth = dequeued[\"d\"]+1\n",
    "                if new_depth > max_depth:\n",
    "                    max_depth = new_depth\n",
    "                for broader in broads:\n",
    "                    queue.append({\"t\":broader,\"d\":dequeued[\"d\"]+1})\n",
    "\n",
    "        concepts[concept] = max_depth\n",
    "        pbar.update(1)"
   ]
  },
  {
   "cell_type": "code",
   "execution_count": 7,
   "metadata": {},
   "outputs": [],
   "source": [
    "import pandas as pd\n",
    "list_of_depths = pd.DataFrame.from_dict(concepts, orient='index', columns=['depth'])"
   ]
  },
  {
   "cell_type": "code",
   "execution_count": 8,
   "metadata": {},
   "outputs": [
    {
     "data": {
      "text/html": [
       "<div>\n",
       "<style scoped>\n",
       "    .dataframe tbody tr th:only-of-type {\n",
       "        vertical-align: middle;\n",
       "    }\n",
       "\n",
       "    .dataframe tbody tr th {\n",
       "        vertical-align: top;\n",
       "    }\n",
       "\n",
       "    .dataframe thead th {\n",
       "        text-align: right;\n",
       "    }\n",
       "</style>\n",
       "<table border=\"1\" class=\"dataframe\">\n",
       "  <thead>\n",
       "    <tr style=\"text-align: right;\">\n",
       "      <th></th>\n",
       "      <th>depth</th>\n",
       "    </tr>\n",
       "  </thead>\n",
       "  <tbody>\n",
       "    <tr>\n",
       "      <th>https://cso.kmi.open.ac.uk/topics/rfid_tag_antennas</th>\n",
       "      <td>13</td>\n",
       "    </tr>\n",
       "    <tr>\n",
       "      <th>https://cso.kmi.open.ac.uk/topics/passive_tags</th>\n",
       "      <td>13</td>\n",
       "    </tr>\n",
       "    <tr>\n",
       "      <th>https://cso.kmi.open.ac.uk/topics/ultrawideband_applications</th>\n",
       "      <td>12</td>\n",
       "    </tr>\n",
       "    <tr>\n",
       "      <th>https://cso.kmi.open.ac.uk/topics/ultra-high_frequency</th>\n",
       "      <td>12</td>\n",
       "    </tr>\n",
       "    <tr>\n",
       "      <th>https://cso.kmi.open.ac.uk/topics/passive_uhf_rfid</th>\n",
       "      <td>12</td>\n",
       "    </tr>\n",
       "  </tbody>\n",
       "</table>\n",
       "</div>"
      ],
      "text/plain": [
       "                                                   depth\n",
       "https://cso.kmi.open.ac.uk/topics/rfid_tag_ante...    13\n",
       "https://cso.kmi.open.ac.uk/topics/passive_tags        13\n",
       "https://cso.kmi.open.ac.uk/topics/ultrawideband...    12\n",
       "https://cso.kmi.open.ac.uk/topics/ultra-high_fr...    12\n",
       "https://cso.kmi.open.ac.uk/topics/passive_uhf_rfid    12"
      ]
     },
     "execution_count": 8,
     "metadata": {},
     "output_type": "execute_result"
    }
   ],
   "source": [
    "list_of_depths.sort_values('depth', inplace=True, ascending=False)\n",
    "list_of_depths.head()"
   ]
  },
  {
   "cell_type": "code",
   "execution_count": 9,
   "metadata": {},
   "outputs": [
    {
     "data": {
      "text/html": [
       "<div>\n",
       "<style scoped>\n",
       "    .dataframe tbody tr th:only-of-type {\n",
       "        vertical-align: middle;\n",
       "    }\n",
       "\n",
       "    .dataframe tbody tr th {\n",
       "        vertical-align: top;\n",
       "    }\n",
       "\n",
       "    .dataframe thead th {\n",
       "        text-align: right;\n",
       "    }\n",
       "</style>\n",
       "<table border=\"1\" class=\"dataframe\">\n",
       "  <thead>\n",
       "    <tr style=\"text-align: right;\">\n",
       "      <th></th>\n",
       "      <th>depth</th>\n",
       "    </tr>\n",
       "  </thead>\n",
       "  <tbody>\n",
       "    <tr>\n",
       "      <th>https://cso.kmi.open.ac.uk/topics/computer_science</th>\n",
       "      <td>True</td>\n",
       "    </tr>\n",
       "    <tr>\n",
       "      <th>https://cso.kmi.open.ac.uk/topics/semantics</th>\n",
       "      <td>True</td>\n",
       "    </tr>\n",
       "    <tr>\n",
       "      <th>https://cso.kmi.open.ac.uk/topics/geology</th>\n",
       "      <td>True</td>\n",
       "    </tr>\n",
       "    <tr>\n",
       "      <th>https://cso.kmi.open.ac.uk/topics/sociology</th>\n",
       "      <td>True</td>\n",
       "    </tr>\n",
       "    <tr>\n",
       "      <th>https://cso.kmi.open.ac.uk/topics/engineering</th>\n",
       "      <td>True</td>\n",
       "    </tr>\n",
       "  </tbody>\n",
       "</table>\n",
       "</div>"
      ],
      "text/plain": [
       "                                                   depth\n",
       "https://cso.kmi.open.ac.uk/topics/computer_science  True\n",
       "https://cso.kmi.open.ac.uk/topics/semantics         True\n",
       "https://cso.kmi.open.ac.uk/topics/geology           True\n",
       "https://cso.kmi.open.ac.uk/topics/sociology         True\n",
       "https://cso.kmi.open.ac.uk/topics/engineering       True"
      ]
     },
     "execution_count": 9,
     "metadata": {},
     "output_type": "execute_result"
    }
   ],
   "source": [
    "list_of_depths.sort_values('depth', inplace=True, ascending=True)\n",
    "list_of_depths.head()"
   ]
  },
  {
   "cell_type": "markdown",
   "metadata": {},
   "source": [
    "# Top Concepts"
   ]
  },
  {
   "cell_type": "code",
   "execution_count": 10,
   "metadata": {},
   "outputs": [
    {
     "name": "stdout",
     "output_type": "stream",
     "text": [
      "https://cso.kmi.open.ac.uk/topics/linguistics\n",
      "https://cso.kmi.open.ac.uk/topics/semantics\n",
      "https://cso.kmi.open.ac.uk/topics/communication\n",
      "https://cso.kmi.open.ac.uk/topics/sociology\n",
      "https://cso.kmi.open.ac.uk/topics/education\n",
      "https://cso.kmi.open.ac.uk/topics/topology\n",
      "https://cso.kmi.open.ac.uk/topics/mathematics\n",
      "https://cso.kmi.open.ac.uk/topics/geology\n",
      "https://cso.kmi.open.ac.uk/topics/computer_science\n",
      "https://cso.kmi.open.ac.uk/topics/geometry\n",
      "https://cso.kmi.open.ac.uk/topics/engineering\n",
      "https://cso.kmi.open.ac.uk/topics/economics\n"
     ]
    }
   ],
   "source": [
    "top_concepts = set(narrowers.keys())-set(broaders.keys())\n",
    "for concept in top_concepts:\n",
    "    print(concept)"
   ]
  },
  {
   "cell_type": "code",
   "execution_count": null,
   "metadata": {},
   "outputs": [],
   "source": []
  }
 ],
 "metadata": {
  "kernelspec": {
   "display_name": "Python 3",
   "language": "python",
   "name": "python3"
  },
  "language_info": {
   "codemirror_mode": {
    "name": "ipython",
    "version": 3
   },
   "file_extension": ".py",
   "mimetype": "text/x-python",
   "name": "python",
   "nbconvert_exporter": "python",
   "pygments_lexer": "ipython3",
   "version": "3.7.6"
  }
 },
 "nbformat": 4,
 "nbformat_minor": 4
}
