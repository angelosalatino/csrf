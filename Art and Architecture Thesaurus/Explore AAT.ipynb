{
 "cells": [
  {
   "cell_type": "markdown",
   "metadata": {},
   "source": [
    "# Code to explore the Art & Architecture Thesaurus\n",
    "\n",
    "This code relies on Getty's SPARQL Endpoint [http://vocab.getty.edu/sparql](http://vocab.getty.edu/sparql)"
   ]
  },
  {
   "cell_type": "code",
   "execution_count": 9,
   "metadata": {},
   "outputs": [
    {
     "name": "stdout",
     "output_type": "stream",
     "text": [
      "Requirement already satisfied: rdflib in /opt/anaconda3/envs/development/lib/python3.7/site-packages (6.3.2)\n",
      "Requirement already satisfied: importlib-metadata<5.0.0,>=4.0.0 in /opt/anaconda3/envs/development/lib/python3.7/site-packages (from rdflib) (4.13.0)\n",
      "Requirement already satisfied: isodate<0.7.0,>=0.6.0 in /opt/anaconda3/envs/development/lib/python3.7/site-packages (from rdflib) (0.6.1)\n",
      "Requirement already satisfied: pyparsing<4,>=2.1.0 in /opt/anaconda3/envs/development/lib/python3.7/site-packages (from rdflib) (3.1.2)\n",
      "Requirement already satisfied: zipp>=0.5 in /opt/anaconda3/envs/development/lib/python3.7/site-packages (from importlib-metadata<5.0.0,>=4.0.0->rdflib) (3.11.0)\n",
      "Requirement already satisfied: typing-extensions>=3.6.4 in /opt/anaconda3/envs/development/lib/python3.7/site-packages (from importlib-metadata<5.0.0,>=4.0.0->rdflib) (4.4.0)\n",
      "Requirement already satisfied: six in /opt/anaconda3/envs/development/lib/python3.7/site-packages (from isodate<0.7.0,>=0.6.0->rdflib) (1.16.0)\n",
      "Note: you may need to restart the kernel to use updated packages.\n",
      "Requirement already satisfied: SPARQLWrapper in /opt/anaconda3/envs/development/lib/python3.7/site-packages (2.0.0)\n",
      "Requirement already satisfied: rdflib>=6.1.1 in /opt/anaconda3/envs/development/lib/python3.7/site-packages (from SPARQLWrapper) (6.3.2)\n",
      "Requirement already satisfied: importlib-metadata<5.0.0,>=4.0.0 in /opt/anaconda3/envs/development/lib/python3.7/site-packages (from rdflib>=6.1.1->SPARQLWrapper) (4.13.0)\n",
      "Requirement already satisfied: isodate<0.7.0,>=0.6.0 in /opt/anaconda3/envs/development/lib/python3.7/site-packages (from rdflib>=6.1.1->SPARQLWrapper) (0.6.1)\n",
      "Requirement already satisfied: pyparsing<4,>=2.1.0 in /opt/anaconda3/envs/development/lib/python3.7/site-packages (from rdflib>=6.1.1->SPARQLWrapper) (3.1.2)\n",
      "Requirement already satisfied: zipp>=0.5 in /opt/anaconda3/envs/development/lib/python3.7/site-packages (from importlib-metadata<5.0.0,>=4.0.0->rdflib>=6.1.1->SPARQLWrapper) (3.11.0)\n",
      "Requirement already satisfied: typing-extensions>=3.6.4 in /opt/anaconda3/envs/development/lib/python3.7/site-packages (from importlib-metadata<5.0.0,>=4.0.0->rdflib>=6.1.1->SPARQLWrapper) (4.4.0)\n",
      "Requirement already satisfied: six in /opt/anaconda3/envs/development/lib/python3.7/site-packages (from isodate<0.7.0,>=0.6.0->rdflib>=6.1.1->SPARQLWrapper) (1.16.0)\n",
      "Note: you may need to restart the kernel to use updated packages.\n",
      "Requirement already satisfied: tqdm in /opt/anaconda3/envs/development/lib/python3.7/site-packages (4.66.2)\n",
      "Note: you may need to restart the kernel to use updated packages.\n"
     ]
    }
   ],
   "source": [
    "# Requirements\n",
    "%pip install rdflib\n",
    "%pip install SPARQLWrapper\n",
    "%pip install tqdm"
   ]
  },
  {
   "cell_type": "code",
   "execution_count": 1,
   "metadata": {},
   "outputs": [],
   "source": [
    "from rdflib import Graph\n",
    "from rdflib.namespace import RDFS\n",
    "from rdflib import URIRef\n",
    "import rdflib\n",
    "import json\n",
    "from collections import deque\n",
    "import numpy as np\n",
    "from SPARQLWrapper import SPARQLWrapper, JSON\n",
    "from urllib.error import HTTPError\n",
    "from collections import defaultdict\n",
    "from tqdm import tqdm\n",
    "from time import gmtime, strftime\n",
    "import pandas as pd"
   ]
  },
  {
   "cell_type": "markdown",
   "metadata": {},
   "source": [
    "# Set Up"
   ]
  },
  {
   "cell_type": "code",
   "execution_count": 2,
   "metadata": {},
   "outputs": [],
   "source": [
    "sparql = SPARQLWrapper(\"http://vocab.getty.edu/sparql\")"
   ]
  },
  {
   "cell_type": "markdown",
   "metadata": {},
   "source": [
    "# Functionalities"
   ]
  },
  {
   "cell_type": "code",
   "execution_count": 3,
   "metadata": {},
   "outputs": [],
   "source": [
    "def query_wrapper(sparql, query):\n",
    "    completed = False\n",
    "    while completed == False:\n",
    "        try: \n",
    "            sparql.setQuery(query)\n",
    "            sparql.setReturnFormat(JSON)\n",
    "            results = sparql.query().convert()\n",
    "            completed = True\n",
    "        except HTTPError:\n",
    "            print(\"Going to sleep for 20 secs\")\n",
    "            time.sleep(20)\n",
    "    return results"
   ]
  },
  {
   "cell_type": "markdown",
   "metadata": {},
   "source": [
    "# Number of concepts"
   ]
  },
  {
   "cell_type": "code",
   "execution_count": 4,
   "metadata": {},
   "outputs": [
    {
     "name": "stdout",
     "output_type": "stream",
     "text": [
      "Total concepts in the scheme 58625\n"
     ]
    }
   ],
   "source": [
    "query_concepts = \"\"\"\n",
    "SELECT (count(?s) as ?ct)\n",
    "WHERE\n",
    "{ ?s rdf:type gvp:Subject ; skos:inScheme aat: ; gvp:prefLabelGVP/xl:literalForm ?l}\n",
    "\"\"\"\n",
    "qres = query_wrapper(sparql, query_concepts)\n",
    "print(f\"Total concepts in the scheme {qres['results']['bindings'][0]['ct']['value']}\")"
   ]
  },
  {
   "cell_type": "markdown",
   "metadata": {},
   "source": [
    "# Getting hierarchy"
   ]
  },
  {
   "cell_type": "code",
   "execution_count": 5,
   "metadata": {},
   "outputs": [],
   "source": [
    "query = \"\"\"SELECT *\n",
    "WHERE{\n",
    "  ?x skos:broader ?y .\n",
    "  ?x skos:inScheme aat: .\n",
    "  ?y skos:inScheme aat: .\n",
    "}\n",
    "\"\"\"\n",
    "qres = query_wrapper(sparql, query)"
   ]
  },
  {
   "cell_type": "code",
   "execution_count": 6,
   "metadata": {},
   "outputs": [
    {
     "name": "stdout",
     "output_type": "stream",
     "text": [
      "Len of broaders: 55407\n",
      "Len of narrowers: 10005\n"
     ]
    }
   ],
   "source": [
    "#esults[\"results\"][\"bindings\"][0][\"label\"][\"value\"]\n",
    "broaders = defaultdict(list)\n",
    "narrowers = defaultdict(list)\n",
    "results = qres[\"results\"][\"bindings\"]\n",
    "for result in results:\n",
    "    x = result[\"x\"][\"value\"].rsplit('/', 1)[-1]\n",
    "    y = result[\"y\"][\"value\"].rsplit('/', 1)[-1]\n",
    "    broaders[x].append(y)\n",
    "    narrowers[y].append(x)\n",
    "print(f\"Len of broaders: {len(broaders)}\")\n",
    "print(f\"Len of narrowers: {len(narrowers)}\")"
   ]
  },
  {
   "cell_type": "code",
   "execution_count": 7,
   "metadata": {},
   "outputs": [
    {
     "data": {
      "text/plain": [
       "['300043196', '300194567']"
      ]
     },
     "execution_count": 7,
     "metadata": {},
     "output_type": "execute_result"
    }
   ],
   "source": [
    "broaders[\"300043202\"]"
   ]
  },
  {
   "cell_type": "code",
   "execution_count": 8,
   "metadata": {},
   "outputs": [],
   "source": [
    "#narrowers[\"300194567\"]"
   ]
  },
  {
   "cell_type": "markdown",
   "metadata": {},
   "source": [
    "# Extracting the tree and finding depth"
   ]
  },
  {
   "cell_type": "code",
   "execution_count": 9,
   "metadata": {},
   "outputs": [],
   "source": [
    "def find_depth(concept, unhier):\n",
    "    inspected = dict()\n",
    "    queue = deque() \n",
    "    value = 1\n",
    "    max_depth = value\n",
    "    queue.append({\"t\":concept,\"d\":value})\n",
    "    while len(queue) > 0:\n",
    "        dequeued = queue.popleft()\n",
    "        #print(dequeued)\n",
    "        if dequeued[\"t\"] in unhier:\n",
    "            broads = unhier[dequeued[\"t\"]]\n",
    "            new_depth = dequeued[\"d\"]+1\n",
    "            if new_depth > max_depth:\n",
    "                max_depth = new_depth\n",
    "            for broader in broads:\n",
    "                if broader not in inspected:\n",
    "                    queue.append({\"t\":broader,\"d\":dequeued[\"d\"]+1})\n",
    "                    inspected[broader] = True\n",
    "\n",
    "    concepts[concept] = max_depth\n",
    "    #print(\"{} - {}\".format(concept,max_depth))"
   ]
  },
  {
   "cell_type": "code",
   "execution_count": 11,
   "metadata": {},
   "outputs": [
    {
     "name": "stderr",
     "output_type": "stream",
     "text": [
      "100%|██████████| 55652/55652 [00:00<00:00, 142698.27it/s]\n"
     ]
    }
   ],
   "source": [
    "topics_list = list(set(broaders.keys()).union(set(narrowers.keys())))\n",
    "unhier = broaders\n",
    "topics = {k:1 for k in topics_list}\n",
    "concepts = topics\n",
    "#concepts = {\"300224863\":1}\n",
    "with tqdm(total=len(concepts)) as pbar:\n",
    "    for concept, value in concepts.items():\n",
    "        #print(concept, strftime(\"%a, %d %b %Y %H:%M:%S +0000\", gmtime()))\n",
    "        value = find_depth(concept, unhier)\n",
    "        pbar.update(1)"
   ]
  },
  {
   "cell_type": "code",
   "execution_count": 12,
   "metadata": {},
   "outputs": [
    {
     "data": {
      "text/plain": [
       "10"
      ]
     },
     "execution_count": 12,
     "metadata": {},
     "output_type": "execute_result"
    }
   ],
   "source": [
    "concepts[\"300265311\"]"
   ]
  },
  {
   "cell_type": "code",
   "execution_count": 13,
   "metadata": {},
   "outputs": [],
   "source": [
    "list_of_depths = pd.DataFrame.from_dict(concepts, orient='index', columns=['depth'])"
   ]
  },
  {
   "cell_type": "code",
   "execution_count": 14,
   "metadata": {},
   "outputs": [
    {
     "data": {
      "text/html": [
       "<div>\n",
       "<style scoped>\n",
       "    .dataframe tbody tr th:only-of-type {\n",
       "        vertical-align: middle;\n",
       "    }\n",
       "\n",
       "    .dataframe tbody tr th {\n",
       "        vertical-align: top;\n",
       "    }\n",
       "\n",
       "    .dataframe thead th {\n",
       "        text-align: right;\n",
       "    }\n",
       "</style>\n",
       "<table border=\"1\" class=\"dataframe\">\n",
       "  <thead>\n",
       "    <tr style=\"text-align: right;\">\n",
       "      <th></th>\n",
       "      <th>depth</th>\n",
       "    </tr>\n",
       "  </thead>\n",
       "  <tbody>\n",
       "    <tr>\n",
       "      <th>300417319</th>\n",
       "      <td>13</td>\n",
       "    </tr>\n",
       "    <tr>\n",
       "      <th>300183986</th>\n",
       "      <td>13</td>\n",
       "    </tr>\n",
       "    <tr>\n",
       "      <th>300375655</th>\n",
       "      <td>13</td>\n",
       "    </tr>\n",
       "    <tr>\n",
       "      <th>300446230</th>\n",
       "      <td>13</td>\n",
       "    </tr>\n",
       "    <tr>\n",
       "      <th>300387259</th>\n",
       "      <td>13</td>\n",
       "    </tr>\n",
       "  </tbody>\n",
       "</table>\n",
       "</div>"
      ],
      "text/plain": [
       "           depth\n",
       "300417319     13\n",
       "300183986     13\n",
       "300375655     13\n",
       "300446230     13\n",
       "300387259     13"
      ]
     },
     "execution_count": 14,
     "metadata": {},
     "output_type": "execute_result"
    }
   ],
   "source": [
    "list_of_depths.sort_values('depth', inplace=True, ascending=False)\n",
    "list_of_depths.head()"
   ]
  },
  {
   "cell_type": "markdown",
   "metadata": {
    "tags": []
   },
   "source": [
    "# Languages"
   ]
  },
  {
   "cell_type": "code",
   "execution_count": 15,
   "metadata": {},
   "outputs": [],
   "source": [
    "query_languages = \"\"\"\n",
    "select (count(*) as ?c) ?lang {\n",
    "  ?concept skos:inScheme aat:; xl:prefLabel|xl:altLabel ?lab.\n",
    "  ?lab dct:language ?lng.\n",
    "  ?lng gvp:prefLabelGVP/xl:literalForm ?lang\n",
    "} group by ?lang order by desc(?c)\n",
    "\"\"\"\n",
    "qres = query_wrapper(sparql, query_languages)"
   ]
  },
  {
   "cell_type": "code",
   "execution_count": 16,
   "metadata": {},
   "outputs": [
    {
     "name": "stdout",
     "output_type": "stream",
     "text": [
      "Number of Languages available: 167\n",
      "=================\n",
      "174961 -> English (language)\n",
      "74814 -> Dutch (language)\n",
      "56014 -> Spanish (language)\n",
      "47313 -> Chinese (traditional) (language)\n",
      "27725 -> German (language)\n",
      "25030 -> Chinese (transliterated Wade-Giles) (language)\n",
      "25007 -> Chinese (transliterated Hanyu Pinyin) (language)\n",
      "24964 -> Chinese (transliterated Pinyin without tones) (language)\n",
      "22348 -> French (language)\n",
      "5239 -> American English (language)\n",
      "3934 -> Portuguese (language)\n",
      "3806 -> Italian (language)\n",
      "2969 -> British English (language)\n",
      "2403 -> Latin (language)\n",
      "2121 -> Hebrew (language)\n",
      "1447 -> Classical Nahuatl (language)\n",
      "1365 -> Sanskrit (transliterated) (language)\n",
      "919 -> Serbian (language)\n",
      "855 -> Greek (modern language)\n",
      "771 -> Arabic (language)\n",
      "763 -> Eastern Huasteca Nahuatl\n",
      "569 -> Swedish (language)\n",
      "470 -> Norwegian, New (Nynorsk) (language)\n",
      "462 -> Norwegian (Bokmål) (written standard)\n",
      "319 -> African language (language)\n",
      "214 -> undetermined (language)\n",
      "167 -> Japanese (transliterated) (language)\n",
      "119 -> Chinese (transliterated Pinyin) (language)\n",
      "79 -> Arabic (transliterated) (language)\n",
      "72 -> Chinese (transliterated) (language)\n",
      "58 -> Maori (language)\n",
      "57 -> Chinese (language)\n",
      "55 -> Greek (transliterated) (Latin)\n",
      "52 -> Nahuatl (language)\n",
      "50 -> Chinese (simplified) (language)\n",
      "44 -> local language (language)\n",
      "37 -> Polish (language)\n",
      "35 -> Danish (language)\n",
      "24 -> Hebrew (transliterated) (language)\n",
      "19 -> Japanese (language)\n",
      "19 -> Sanskrit (language)\n",
      "18 -> Tamil (transliterated) (language)\n",
      "18 -> Hindi (transliterated) (language)\n",
      "17 -> Turkish (transliterated) (language)\n",
      "15 -> Malayalam (transliterated) (language)\n",
      "15 -> Russian (transliterated) (language)\n",
      "15 -> Arabic, Hijazi (language)\n",
      "11 -> Korean (transliterated) (language)\n",
      "10 -> Berber dialects (transliterated) (language)\n",
      "10 -> Chadic (transliterated) (language)\n",
      "9 -> Tibetan (language)\n",
      "8 -> Liturgical Latin (language)\n",
      "6 -> Ojibwa (language)\n",
      "6 -> Irish (language)\n",
      "6 -> Czech (language)\n",
      "6 -> Malay (specific) (language)\n",
      "5 -> Hopi (language)\n",
      "5 -> Canadian French\n",
      "5 -> Turkish (language)\n",
      "5 -> Cree (language)\n",
      "5 -> Persian, Middle (transliterated) (language)\n",
      "5 -> Russian (language)\n",
      "4 -> Standard French\n",
      "4 -> Tlingit (language)\n",
      "4 -> Kannada (transliterated) (language)\n",
      "4 -> Bantu (language)\n",
      "4 -> Australian Aboriginal (language families)\n",
      "4 -> Asian language (language)\n",
      "4 -> Liturgical Greek (transliterated) (language)\n",
      "4 -> Ancient Egyptian (language)\n",
      "4 -> Vietnamese (language)\n",
      "4 -> Anglo-Saxon (language)\n",
      "4 -> Lakota (language)\n",
      "3 -> Tsimshian (language)\n",
      "3 -> Navajo (language)\n",
      "3 -> Berber (transliterated) (language)\n",
      "3 -> Tamil (language)\n",
      "3 -> Magyar (Hungarian) (language)\n",
      "3 -> North American native language (language)\n",
      "3 -> Cherokee (language)\n",
      "3 -> Late Old English (Anglo-Saxon language)\n",
      "3 -> High German (language)\n",
      "2 -> Akan (language)\n",
      "2 -> Ancient Greek (transliterated) (Latin)\n",
      "2 -> Catalan (language)\n",
      "2 -> Sardinian (language)\n",
      "2 -> Oriya (transliterated) (language)\n",
      "2 -> Persian-Farsi (transliterated) (language)\n",
      "2 -> Panjabi (general) (language)\n",
      "2 -> Gaelic, indigenous Manx (language)\n",
      "2 -> Onondaga (language)\n",
      "2 -> Aramaic (transliterated) (language)\n",
      "2 -> Finnish (language)\n",
      "2 -> Quechuan (language family)\n",
      "2 -> Tagalog (language)\n",
      "2 -> Afrikaans (language)\n",
      "2 -> Flemish (language group)\n",
      "2 -> Middle English (language)\n",
      "2 -> Medieval Latin (language)\n",
      "2 -> Urdu (language)\n",
      "2 -> Byzantine Greek (language)\n",
      "2 -> Hausa (language)\n",
      "2 -> Persian-Farsi (language)\n",
      "2 -> Chickasaw (language)\n",
      "2 -> Ancient Greek (language)\n",
      "2 -> Basque (language)\n",
      "1 -> Schwyzerdütsch (language)\n",
      "1 -> Estonian (language)\n",
      "1 -> Zulu (language)\n",
      "1 -> Burmese (language)\n",
      "1 -> kanji (writing sysetm)\n",
      "1 -> Endo (Markweta dialect)\n",
      "1 -> Washo (language)\n",
      "1 -> Tok Pisin (Neomelanesian) (language)\n",
      "1 -> Arabic, Tunisian (transliterated) (language)\n",
      "1 -> Scots Gaelic (Scottish)\n",
      "1 -> Mohawk (language)\n",
      "1 -> Seneca (language)\n",
      "1 -> Kongo (Congo) (language)\n",
      "1 -> Hupa (language)\n",
      "1 -> Low German (language)\n",
      "1 -> Prakrit (transliterated) (language)\n",
      "1 -> Chinese, Yue (language)\n",
      "1 -> Austronesian language (language)\n",
      "1 -> Mapuche (language)\n",
      "1 -> Shuadit (language)\n",
      "1 -> Odia (macrolanguage)\n",
      "1 -> Hawaiian (language)\n",
      "1 -> Egyptian, Coptic (language)\n",
      "1 -> Indonesian (language)\n",
      "1 -> Korean (language)\n",
      "1 -> Polabian (language)\n",
      "1 -> Khasian (language)\n",
      "1 -> Nepalese (language)\n",
      "1 -> Filipino (language)\n",
      "1 -> Lao (language)\n",
      "1 -> Old French (language)\n",
      "1 -> Germanic (languages)\n",
      "1 -> Icelandic (language)\n",
      "1 -> Thai (language)\n",
      "1 -> Amerindian language\n",
      "1 -> Kwak'wala (language)\n",
      "1 -> Nisga'a (language)\n",
      "1 -> Bambara (language)\n",
      "1 -> Akkadian (transliterated) (language)\n",
      "1 -> Sumerian (transliterated) (language)\n",
      "1 -> Fula (language)\n",
      "1 -> Armenian (language)\n",
      "1 -> Wolof (language)\n",
      "1 -> Blackfoot (language)\n",
      "1 -> Yoruba (language)\n",
      "1 -> Polynesian language (language)\n",
      "1 -> Javanese (language)\n",
      "1 -> Gitksan (language)\n",
      "1 -> Crow (language)\n",
      "1 -> Standard German (language)\n",
      "1 -> Hindustani (transliterated) (language)\n",
      "1 -> Cuban Spanish (language dialect)\n",
      "1 -> Mexican Spanish (language dialect)\n",
      "1 -> Tuscarora (language)\n",
      "1 -> Chinese (transliterated Tongyong Pinyin) (language)\n",
      "1 -> Hmong (language)\n",
      "1 -> Sudanic language (language)\n",
      "1 -> Hindi (language)\n",
      "1 -> Telugu (language)\n",
      "1 -> Aranese (language dialect)\n",
      "1 -> Tzutujil (language)\n"
     ]
    }
   ],
   "source": [
    "results = qres[\"results\"][\"bindings\"]\n",
    "print(f\"Number of Languages available: {len(results)}\")\n",
    "print(\"=================\")\n",
    "for result in results:\n",
    "    print(f\"{result['c']['value']} -> {result['lang']['value']}\")"
   ]
  },
  {
   "cell_type": "markdown",
   "metadata": {},
   "source": [
    "# Other queries"
   ]
  },
  {
   "cell_type": "markdown",
   "metadata": {},
   "source": [
    "```sql\n",
    "SELECT (count(?s) as ?ct)\n",
    "WHERE\n",
    "{ ?s rdf:type gvp:Concept}\n",
    "\n",
    "\n",
    "SELECT *\n",
    "WHERE {\n",
    "  ?x gvp:broaderGeneric ?y }\n",
    "LIMIT 100\n",
    "\n",
    "\n",
    "SELECT ?x, (COUNT(?y) as ?ct) \n",
    "WHERE {\n",
    "  ?x gvp:broaderGeneric ?y }\n",
    "GROUP BY ?x \n",
    "LIMIT 100\n",
    "\n",
    "SELECT ?x (COUNT(?y) as ?ct) \n",
    "WHERE{\n",
    "  ?x gvp:broaderGeneric ?y .\n",
    "}\n",
    "GROUP BY ?x\n",
    "\n",
    "\n",
    "SELECT (count(*) as ?ct) \n",
    "WHERE{\n",
    "  ?x gvp:broaderExtended ?y\n",
    "  }\n",
    "\n",
    "\n",
    "SELECT (COUNT(*) as ?ct) \n",
    "WHERE{\n",
    "  ?x gvp:broaderGeneric ?y .\n",
    "}\n",
    "\n",
    "SELECT ?s\n",
    "WHERE{\n",
    "  ?s <http://vocab.getty.edu/ontology#parentString> \"Top of the AAT hierarchies\" .\n",
    "  }\n",
    "```"
   ]
  },
  {
   "cell_type": "code",
   "execution_count": null,
   "metadata": {},
   "outputs": [],
   "source": []
  }
 ],
 "metadata": {
  "kernelspec": {
   "display_name": "Python 3 (ipykernel)",
   "language": "python",
   "name": "python3"
  },
  "language_info": {
   "codemirror_mode": {
    "name": "ipython",
    "version": 3
   },
   "file_extension": ".py",
   "mimetype": "text/x-python",
   "name": "python",
   "nbconvert_exporter": "python",
   "pygments_lexer": "ipython3",
   "version": "3.7.15"
  }
 },
 "nbformat": 4,
 "nbformat_minor": 4
}
