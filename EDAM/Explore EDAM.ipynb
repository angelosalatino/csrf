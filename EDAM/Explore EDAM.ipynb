{
 "cells": [
  {
   "cell_type": "markdown",
   "metadata": {},
   "source": [
    "# Analyse EDAM\n",
    "Get the number of concepts and the depth of the ontology\n",
    "\n",
    "It is important to have rdflib, SPARQLWrapper, pandas, and numpy\n",
    "* pip install rdflib\n",
    "* pip install SPARQLWrapper\n",
    "* pip install pandas\n",
    "* pip install numpy\n",
    "\n",
    "The version 1.25 of EDAM is already available in this repository.\n",
    "\n",
    "However, you can download the lastest version from https://edamontology.org/page"
   ]
  },
  {
   "cell_type": "code",
   "execution_count": 1,
   "metadata": {},
   "outputs": [],
   "source": [
    "from rdflib import Graph\n",
    "from rdflib.namespace import RDFS\n",
    "from rdflib import URIRef\n",
    "import rdflib\n",
    "import json\n",
    "from collections import deque\n",
    "import numpy as np"
   ]
  },
  {
   "cell_type": "code",
   "execution_count": 2,
   "metadata": {},
   "outputs": [
    {
     "data": {
      "text/plain": [
       "<Graph identifier=Nde4853ed8ac24310b52bbb1e5e234204 (<class 'rdflib.graph.Graph'>)>"
      ]
     },
     "execution_count": 2,
     "metadata": {},
     "output_type": "execute_result"
    }
   ],
   "source": [
    "input_file = \"EDAM_1.25.owl\"\n",
    "g = Graph()\n",
    "g.parse(input_file)"
   ]
  },
  {
   "cell_type": "code",
   "execution_count": 3,
   "metadata": {},
   "outputs": [
    {
     "name": "stdout",
     "output_type": "stream",
     "text": [
      "264\n"
     ]
    }
   ],
   "source": [
    "qres = g.query(\n",
    "    \"\"\"SELECT DISTINCT ?a\n",
    "       WHERE {\n",
    "          ?a a owl:Class .\n",
    "          ?a oboInOwl:inSubset edam:topics\n",
    "       }\"\"\")\n",
    "topics = dict()\n",
    "for row in qres:\n",
    "#     print(\"%s\" % row)\n",
    "    topics[row[0]] = True\n",
    "    \n",
    "print(len(topics))  "
   ]
  },
  {
   "cell_type": "code",
   "execution_count": 4,
   "metadata": {},
   "outputs": [],
   "source": [
    "qres = g.query(\n",
    "    \"\"\"SELECT DISTINCT ?a ?b\n",
    "       WHERE {\n",
    "          ?a rdfs:subClassOf ?b .\n",
    "          ?a oboInOwl:inSubset edam:topics\n",
    "       }\"\"\")\n",
    "\n",
    "broaders = dict()\n",
    "narrowers = dict()\n",
    "for row in qres:\n",
    "    if row[0] not in broaders:\n",
    "        broaders[row[0]] = list()\n",
    "    broaders[row[0]].append(row[1])\n",
    "    if row[1] not in narrowers:\n",
    "        narrowers[row[1]] = list()\n",
    "    narrowers[row[1]].append(row[0])"
   ]
  },
  {
   "cell_type": "markdown",
   "metadata": {},
   "source": [
    "# Checking if it is Polyhierarchical\n",
    "\n",
    "If it prints items it means it is polyhierarchical"
   ]
  },
  {
   "cell_type": "code",
   "execution_count": 6,
   "metadata": {},
   "outputs": [
    {
     "name": "stdout",
     "output_type": "stream",
     "text": [
      "http://edamontology.org/topic_0084 [rdflib.term.URIRef('http://edamontology.org/topic_3299'), rdflib.term.URIRef('http://edamontology.org/topic_3307')]\n",
      "http://edamontology.org/topic_0085 [rdflib.term.URIRef('http://edamontology.org/topic_0622'), rdflib.term.URIRef('http://edamontology.org/topic_1775')]\n",
      "http://edamontology.org/topic_0097 [rdflib.term.URIRef('http://edamontology.org/topic_0077'), rdflib.term.URIRef('http://edamontology.org/topic_0081')]\n",
      "http://edamontology.org/topic_0122 [rdflib.term.URIRef('http://edamontology.org/topic_0622'), rdflib.term.URIRef('http://edamontology.org/topic_1317')]\n",
      "http://edamontology.org/topic_0128 [rdflib.term.URIRef('http://edamontology.org/topic_0078'), rdflib.term.URIRef('http://edamontology.org/topic_0602')]\n",
      "http://edamontology.org/topic_0176 [rdflib.term.URIRef('http://edamontology.org/topic_0082'), rdflib.term.URIRef('http://edamontology.org/topic_3892')]\n",
      "http://edamontology.org/topic_0194 [rdflib.term.URIRef('http://edamontology.org/topic_0080'), rdflib.term.URIRef('http://edamontology.org/topic_0622')]\n",
      "http://edamontology.org/topic_0199 [rdflib.term.URIRef('http://edamontology.org/topic_3321'), rdflib.term.URIRef('http://edamontology.org/topic_0622')]\n",
      "http://edamontology.org/topic_0208 [rdflib.term.URIRef('http://edamontology.org/topic_0202'), rdflib.term.URIRef('http://edamontology.org/topic_0622')]\n",
      "http://edamontology.org/topic_0209 [rdflib.term.URIRef('http://edamontology.org/topic_3336'), rdflib.term.URIRef('http://edamontology.org/topic_3371')]\n",
      "http://edamontology.org/topic_0218 [rdflib.term.URIRef('http://edamontology.org/topic_3068'), rdflib.term.URIRef('http://edamontology.org/topic_3316')]\n",
      "http://edamontology.org/topic_0593 [rdflib.term.URIRef('http://edamontology.org/topic_1317'), rdflib.term.URIRef('http://edamontology.org/topic_3382')]\n",
      "http://edamontology.org/topic_0611 [rdflib.term.URIRef('http://edamontology.org/topic_1317'), rdflib.term.URIRef('http://edamontology.org/topic_3382')]\n",
      "http://edamontology.org/topic_0623 [rdflib.term.URIRef('http://edamontology.org/topic_0078'), rdflib.term.URIRef('http://edamontology.org/topic_3321')]\n",
      "http://edamontology.org/topic_0659 [rdflib.term.URIRef('http://edamontology.org/topic_0099'), rdflib.term.URIRef('http://edamontology.org/topic_0114')]\n",
      "http://edamontology.org/topic_0749 [rdflib.term.URIRef('http://edamontology.org/topic_0078'), rdflib.term.URIRef('http://edamontology.org/topic_0203'), rdflib.term.URIRef('http://edamontology.org/topic_3125')]\n",
      "http://edamontology.org/topic_2533 [rdflib.term.URIRef('http://edamontology.org/topic_0199'), rdflib.term.URIRef('http://edamontology.org/topic_0654')]\n",
      "http://edamontology.org/topic_2814 [rdflib.term.URIRef('http://edamontology.org/topic_0078'), rdflib.term.URIRef('http://edamontology.org/topic_0081')]\n",
      "http://edamontology.org/topic_2828 [rdflib.term.URIRef('http://edamontology.org/topic_1317'), rdflib.term.URIRef('http://edamontology.org/topic_3382')]\n",
      "http://edamontology.org/topic_2830 [rdflib.term.URIRef('http://edamontology.org/topic_0623'), rdflib.term.URIRef('http://edamontology.org/topic_0804')]\n",
      "http://edamontology.org/topic_2840 [rdflib.term.URIRef('http://edamontology.org/topic_3303'), rdflib.term.URIRef('http://edamontology.org/topic_3377')]\n",
      "http://edamontology.org/topic_2885 [rdflib.term.URIRef('http://edamontology.org/topic_0199'), rdflib.term.URIRef('http://edamontology.org/topic_0654')]\n",
      "http://edamontology.org/topic_3125 [rdflib.term.URIRef('http://edamontology.org/topic_0654'), rdflib.term.URIRef('http://edamontology.org/topic_3511')]\n",
      "http://edamontology.org/topic_3169 [rdflib.term.URIRef('http://edamontology.org/topic_3168'), rdflib.term.URIRef('http://edamontology.org/topic_3656')]\n",
      "http://edamontology.org/topic_3173 [rdflib.term.URIRef('http://edamontology.org/topic_0622'), rdflib.term.URIRef('http://edamontology.org/topic_3295')]\n",
      "http://edamontology.org/topic_3174 [rdflib.term.URIRef('http://edamontology.org/topic_0610'), rdflib.term.URIRef('http://edamontology.org/topic_0622')]\n",
      "http://edamontology.org/topic_3175 [rdflib.term.URIRef('http://edamontology.org/topic_0199'), rdflib.term.URIRef('http://edamontology.org/topic_0654')]\n",
      "http://edamontology.org/topic_3292 [rdflib.term.URIRef('http://edamontology.org/topic_3070'), rdflib.term.URIRef('http://edamontology.org/topic_3314')]\n",
      "http://edamontology.org/topic_3293 [rdflib.term.URIRef('http://edamontology.org/topic_0080'), rdflib.term.URIRef('http://edamontology.org/topic_0084')]\n",
      "http://edamontology.org/topic_3298 [rdflib.term.URIRef('http://edamontology.org/topic_0625'), rdflib.term.URIRef('http://edamontology.org/topic_3299'), rdflib.term.URIRef('http://edamontology.org/topic_3391')]\n",
      "http://edamontology.org/topic_3306 [rdflib.term.URIRef('http://edamontology.org/topic_3070'), rdflib.term.URIRef('http://edamontology.org/topic_3318')]\n",
      "http://edamontology.org/topic_3308 [rdflib.term.URIRef('http://edamontology.org/topic_0203'), rdflib.term.URIRef('http://edamontology.org/topic_0622')]\n",
      "http://edamontology.org/topic_3320 [rdflib.term.URIRef('http://edamontology.org/topic_0099'), rdflib.term.URIRef('http://edamontology.org/topic_0203')]\n",
      "http://edamontology.org/topic_3321 [rdflib.term.URIRef('http://edamontology.org/topic_3053'), rdflib.term.URIRef('http://edamontology.org/topic_3307')]\n",
      "http://edamontology.org/topic_3332 [rdflib.term.URIRef('http://edamontology.org/topic_3314'), rdflib.term.URIRef('http://edamontology.org/topic_3316')]\n",
      "http://edamontology.org/topic_3336 [rdflib.term.URIRef('http://edamontology.org/topic_3314'), rdflib.term.URIRef('http://edamontology.org/topic_3376')]\n",
      "http://edamontology.org/topic_3369 [rdflib.term.URIRef('http://edamontology.org/topic_3070'), rdflib.term.URIRef('http://edamontology.org/topic_3371')]\n",
      "http://edamontology.org/topic_3379 [rdflib.term.URIRef('http://edamontology.org/topic_3376'), rdflib.term.URIRef('http://edamontology.org/topic_3678')]\n",
      "http://edamontology.org/topic_3448 [rdflib.term.URIRef('http://edamontology.org/topic_1317'), rdflib.term.URIRef('http://edamontology.org/topic_3382')]\n",
      "http://edamontology.org/topic_3510 [rdflib.term.URIRef('http://edamontology.org/topic_0078'), rdflib.term.URIRef('http://edamontology.org/topic_0160')]\n",
      "http://edamontology.org/topic_3511 [rdflib.term.URIRef('http://edamontology.org/topic_0077'), rdflib.term.URIRef('http://edamontology.org/topic_0160')]\n",
      "http://edamontology.org/topic_3512 [rdflib.term.URIRef('http://edamontology.org/topic_0099'), rdflib.term.URIRef('http://edamontology.org/topic_0114')]\n",
      "http://edamontology.org/topic_3679 [rdflib.term.URIRef('http://edamontology.org/topic_3386'), rdflib.term.URIRef('http://edamontology.org/topic_3678')]\n",
      "http://edamontology.org/topic_3697 [rdflib.term.URIRef('http://edamontology.org/topic_0610'), rdflib.term.URIRef('http://edamontology.org/topic_3301')]\n",
      "http://edamontology.org/topic_3895 [rdflib.term.URIRef('http://edamontology.org/topic_3070'), rdflib.term.URIRef('http://edamontology.org/topic_3297')]\n",
      "http://edamontology.org/topic_3912 [rdflib.term.URIRef('http://edamontology.org/topic_3053'), rdflib.term.URIRef('http://edamontology.org/topic_3297')]\n",
      "http://edamontology.org/topic_3930 [rdflib.term.URIRef('http://edamontology.org/topic_0804'), rdflib.term.URIRef('http://edamontology.org/topic_3053')]\n",
      "http://edamontology.org/topic_3941 [rdflib.term.URIRef('http://edamontology.org/topic_0203'), rdflib.term.URIRef('http://edamontology.org/topic_3308')]\n",
      "http://edamontology.org/topic_3944 [rdflib.term.URIRef('http://edamontology.org/topic_0080'), rdflib.term.URIRef('http://edamontology.org/topic_0084')]\n",
      "http://edamontology.org/topic_3945 [rdflib.term.URIRef('http://edamontology.org/topic_0625'), rdflib.term.URIRef('http://edamontology.org/topic_3299'), rdflib.term.URIRef('http://edamontology.org/topic_3391')]\n",
      "http://edamontology.org/topic_3974 [rdflib.term.URIRef('http://edamontology.org/topic_0622'), rdflib.term.URIRef('http://edamontology.org/topic_3295')]\n",
      "http://edamontology.org/topic_4012 [rdflib.term.URIRef('http://edamontology.org/topic_4010'), rdflib.term.URIRef('http://edamontology.org/topic_3071')]\n",
      "http://edamontology.org/topic_4013 [rdflib.term.URIRef('http://edamontology.org/topic_3301'), rdflib.term.URIRef('http://edamontology.org/topic_3324')]\n",
      "http://edamontology.org/topic_4014 [rdflib.term.URIRef('http://edamontology.org/topic_3300'), rdflib.term.URIRef('http://edamontology.org/topic_3382')]\n",
      "http://edamontology.org/topic_4016 [rdflib.term.URIRef('http://edamontology.org/topic_3300'), rdflib.term.URIRef('http://edamontology.org/topic_3382')]\n"
     ]
    }
   ],
   "source": [
    "for key, broad in broaders.items():\n",
    "    #print(len(broad))\n",
    "    if (len(broad) > 1):\n",
    "        print(key, broad)"
   ]
  },
  {
   "cell_type": "markdown",
   "metadata": {},
   "source": [
    "# Assessing the depth"
   ]
  },
  {
   "cell_type": "code",
   "execution_count": 7,
   "metadata": {},
   "outputs": [],
   "source": [
    "unhier = broaders\n",
    "concepts = topics\n",
    "for concept, value in concepts.items():\n",
    "    queue = deque() \n",
    "    max_depth = value\n",
    "    queue.append({\"t\":concept,\"d\":value})\n",
    "    while len(queue) > 0:\n",
    "        dequeued = queue.popleft()\n",
    "        if dequeued[\"t\"] in unhier:\n",
    "            broads = unhier[dequeued[\"t\"]]\n",
    "            new_depth = dequeued[\"d\"]+1\n",
    "            if new_depth > max_depth:\n",
    "                max_depth = new_depth\n",
    "            for broader in broads:\n",
    "                queue.append({\"t\":broader,\"d\":dequeued[\"d\"]+1})\n",
    "    \n",
    "    concepts[concept] = max_depth"
   ]
  },
  {
   "cell_type": "code",
   "execution_count": 8,
   "metadata": {},
   "outputs": [],
   "source": [
    "import pandas as pd\n",
    "list_of_depths = pd.DataFrame.from_dict(concepts, orient='index', columns=['depth'])"
   ]
  },
  {
   "cell_type": "code",
   "execution_count": 9,
   "metadata": {},
   "outputs": [
    {
     "data": {
      "text/html": [
       "<div>\n",
       "<style scoped>\n",
       "    .dataframe tbody tr th:only-of-type {\n",
       "        vertical-align: middle;\n",
       "    }\n",
       "\n",
       "    .dataframe tbody tr th {\n",
       "        vertical-align: top;\n",
       "    }\n",
       "\n",
       "    .dataframe thead th {\n",
       "        text-align: right;\n",
       "    }\n",
       "</style>\n",
       "<table border=\"1\" class=\"dataframe\">\n",
       "  <thead>\n",
       "    <tr style=\"text-align: right;\">\n",
       "      <th></th>\n",
       "      <th>depth</th>\n",
       "    </tr>\n",
       "  </thead>\n",
       "  <tbody>\n",
       "    <tr>\n",
       "      <th>http://edamontology.org/topic_3941</th>\n",
       "      <td>7</td>\n",
       "    </tr>\n",
       "    <tr>\n",
       "      <th>http://edamontology.org/topic_0798</th>\n",
       "      <td>6</td>\n",
       "    </tr>\n",
       "    <tr>\n",
       "      <th>http://edamontology.org/topic_2885</th>\n",
       "      <td>6</td>\n",
       "    </tr>\n",
       "    <tr>\n",
       "      <th>http://edamontology.org/topic_0204</th>\n",
       "      <td>6</td>\n",
       "    </tr>\n",
       "    <tr>\n",
       "      <th>http://edamontology.org/topic_2830</th>\n",
       "      <td>6</td>\n",
       "    </tr>\n",
       "  </tbody>\n",
       "</table>\n",
       "</div>"
      ],
      "text/plain": [
       "                                   depth\n",
       "http://edamontology.org/topic_3941     7\n",
       "http://edamontology.org/topic_0798     6\n",
       "http://edamontology.org/topic_2885     6\n",
       "http://edamontology.org/topic_0204     6\n",
       "http://edamontology.org/topic_2830     6"
      ]
     },
     "execution_count": 9,
     "metadata": {},
     "output_type": "execute_result"
    }
   ],
   "source": [
    "list_of_depths.sort_values('depth', inplace=True, ascending=False)\n",
    "list_of_depths.head()"
   ]
  },
  {
   "cell_type": "code",
   "execution_count": 10,
   "metadata": {},
   "outputs": [
    {
     "data": {
      "text/html": [
       "<div>\n",
       "<style scoped>\n",
       "    .dataframe tbody tr th:only-of-type {\n",
       "        vertical-align: middle;\n",
       "    }\n",
       "\n",
       "    .dataframe tbody tr th {\n",
       "        vertical-align: top;\n",
       "    }\n",
       "\n",
       "    .dataframe thead th {\n",
       "        text-align: right;\n",
       "    }\n",
       "</style>\n",
       "<table border=\"1\" class=\"dataframe\">\n",
       "  <thead>\n",
       "    <tr style=\"text-align: right;\">\n",
       "      <th></th>\n",
       "      <th>depth</th>\n",
       "    </tr>\n",
       "  </thead>\n",
       "  <tbody>\n",
       "    <tr>\n",
       "      <th>http://edamontology.org/topic_0003</th>\n",
       "      <td>True</td>\n",
       "    </tr>\n",
       "    <tr>\n",
       "      <th>http://edamontology.org/topic_3678</th>\n",
       "      <td>2</td>\n",
       "    </tr>\n",
       "    <tr>\n",
       "      <th>http://edamontology.org/topic_0605</th>\n",
       "      <td>2</td>\n",
       "    </tr>\n",
       "    <tr>\n",
       "      <th>http://edamontology.org/topic_3307</th>\n",
       "      <td>2</td>\n",
       "    </tr>\n",
       "    <tr>\n",
       "      <th>http://edamontology.org/topic_3361</th>\n",
       "      <td>2</td>\n",
       "    </tr>\n",
       "  </tbody>\n",
       "</table>\n",
       "</div>"
      ],
      "text/plain": [
       "                                   depth\n",
       "http://edamontology.org/topic_0003  True\n",
       "http://edamontology.org/topic_3678     2\n",
       "http://edamontology.org/topic_0605     2\n",
       "http://edamontology.org/topic_3307     2\n",
       "http://edamontology.org/topic_3361     2"
      ]
     },
     "execution_count": 10,
     "metadata": {},
     "output_type": "execute_result"
    }
   ],
   "source": [
    "list_of_depths.sort_values('depth', inplace=True, ascending=True)\n",
    "list_of_depths.head()"
   ]
  },
  {
   "cell_type": "markdown",
   "metadata": {},
   "source": [
    "# Top Concepts"
   ]
  },
  {
   "cell_type": "code",
   "execution_count": 11,
   "metadata": {},
   "outputs": [
    {
     "name": "stdout",
     "output_type": "stream",
     "text": [
      "Informatics\n",
      "Literature and language\n",
      "Biology\n",
      "Data management\n",
      "Medicine\n",
      "Computational biology\n",
      "Chemistry\n",
      "Mathematics\n",
      "Computer science\n",
      "Physics\n",
      "Biomedical science\n",
      "Laboratory techniques\n",
      "Omics\n",
      "Experimental design and studies\n",
      "Open science\n"
     ]
    }
   ],
   "source": [
    "qres = g.query(\n",
    "    \"\"\"SELECT DISTINCT ?a ?b\n",
    "       WHERE {\n",
    "          ?a rdfs:subClassOf :topic_0003 .\n",
    "          ?a rdfs:label ?b\n",
    "       }\"\"\")\n",
    "topics = dict()\n",
    "for row in qres:\n",
    "    print(row[1])\n",
    " "
   ]
  },
  {
   "cell_type": "code",
   "execution_count": null,
   "metadata": {},
   "outputs": [],
   "source": []
  }
 ],
 "metadata": {
  "kernelspec": {
   "display_name": "Python 3",
   "language": "python",
   "name": "python3"
  },
  "language_info": {
   "codemirror_mode": {
    "name": "ipython",
    "version": 3
   },
   "file_extension": ".py",
   "mimetype": "text/x-python",
   "name": "python",
   "nbconvert_exporter": "python",
   "pygments_lexer": "ipython3",
   "version": "3.7.6"
  }
 },
 "nbformat": 4,
 "nbformat_minor": 4
}
