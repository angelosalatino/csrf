{
 "cells": [
  {
   "cell_type": "markdown",
   "metadata": {},
   "source": [
    "# Analyse EuroVoc\n",
    "Get the number of concepts and the depth of the ontology\n",
    "\n",
    "It is important to have rdflib, SPARQLWrapper, pandas, and numpy\n",
    "* pip install rdflib\n",
    "* pip install SPARQLWrapper\n",
    "* pip install pandas\n",
    "* pip install numpy\n",
    "\n",
    "Download the lastest version of EuroSciVoc from https://op.europa.eu/en/web/eu-vocabularies/dataset/-/resource?uri=http://publications.europa.eu/resource/dataset/euroscivoc"
   ]
  },
  {
   "cell_type": "code",
   "execution_count": 1,
   "metadata": {},
   "outputs": [],
   "source": [
    "from rdflib import Graph\n",
    "from rdflib.namespace import RDFS\n",
    "from rdflib import URIRef\n",
    "import rdflib\n",
    "import json\n",
    "from collections import deque\n",
    "import numpy as np\n",
    "import pandas as pd"
   ]
  },
  {
   "cell_type": "code",
   "execution_count": 2,
   "metadata": {},
   "outputs": [
    {
     "data": {
      "text/plain": [
       "<Graph identifier=N2e3b9874b1cf406faeffa427247a8932 (<class 'rdflib.graph.Graph'>)>"
      ]
     },
     "execution_count": 2,
     "metadata": {},
     "output_type": "execute_result"
    }
   ],
   "source": [
    "input_file = \"EuroSciVoc-skos-ap-eu.rdf\"\n",
    "g = Graph()\n",
    "g.parse(input_file)"
   ]
  },
  {
   "cell_type": "code",
   "execution_count": 3,
   "metadata": {},
   "outputs": [
    {
     "name": "stdout",
     "output_type": "stream",
     "text": [
      "Number of concepts: 991\n"
     ]
    }
   ],
   "source": [
    "qres = g.query(\n",
    "    \"\"\"PREFIX skos:<http://www.w3.org/2004/02/skos/core#>\n",
    "       SELECT DISTINCT ?a\n",
    "       WHERE {\n",
    "          ?a a skos:Concept .\n",
    "       }\"\"\")\n",
    "\n",
    "\n",
    "topics = dict()\n",
    "for row in qres:\n",
    "    topics[row[0]] = True\n",
    "    \n",
    "print(\"Number of concepts: {}\".format(len(topics)))"
   ]
  },
  {
   "cell_type": "code",
   "execution_count": 4,
   "metadata": {},
   "outputs": [],
   "source": [
    "qres = g.query(\n",
    "    \"\"\"PREFIX skos:<http://www.w3.org/2004/02/skos/core#>\n",
    "       SELECT DISTINCT ?a ?b\n",
    "       WHERE {\n",
    "          ?a skos:broader ?b .\n",
    "       }\"\"\")\n",
    "\n",
    "broaders = dict()\n",
    "narrowers = dict()\n",
    "for row in qres:\n",
    "    if row[0] not in broaders:\n",
    "        broaders[row[0]] = list()\n",
    "    broaders[row[0]].append(row[1])\n",
    "    if row[1] not in narrowers:\n",
    "        narrowers[row[1]] = list()\n",
    "    narrowers[row[1]].append(row[0])"
   ]
  },
  {
   "cell_type": "code",
   "execution_count": 5,
   "metadata": {},
   "outputs": [],
   "source": [
    "unhier = broaders\n",
    "concepts = topics\n",
    "for concept, value in concepts.items():\n",
    "    queue = deque() \n",
    "    max_depth = value\n",
    "    queue.append({\"t\":concept,\"d\":value})\n",
    "    while len(queue) > 0:\n",
    "        dequeued = queue.popleft()\n",
    "        if dequeued[\"t\"] in unhier:\n",
    "            broads = unhier[dequeued[\"t\"]]\n",
    "            new_depth = dequeued[\"d\"]+1\n",
    "            if new_depth > max_depth:\n",
    "                max_depth = new_depth\n",
    "            for broader in broads:\n",
    "                queue.append({\"t\":broader,\"d\":dequeued[\"d\"]+1})\n",
    "    \n",
    "    concepts[concept] = max_depth"
   ]
  },
  {
   "cell_type": "code",
   "execution_count": 9,
   "metadata": {},
   "outputs": [],
   "source": [
    "list_of_depths = pd.DataFrame.from_dict(concepts, orient='index', columns=['depth'])\n",
    "list_of_depths.sort_values('depth', inplace=True, ascending=False)"
   ]
  },
  {
   "cell_type": "code",
   "execution_count": 10,
   "metadata": {},
   "outputs": [
    {
     "name": "stdout",
     "output_type": "stream",
     "text": [
      "Concepts are ranked by maximum depth\n"
     ]
    },
    {
     "data": {
      "text/html": [
       "<div>\n",
       "<style scoped>\n",
       "    .dataframe tbody tr th:only-of-type {\n",
       "        vertical-align: middle;\n",
       "    }\n",
       "\n",
       "    .dataframe tbody tr th {\n",
       "        vertical-align: top;\n",
       "    }\n",
       "\n",
       "    .dataframe thead th {\n",
       "        text-align: right;\n",
       "    }\n",
       "</style>\n",
       "<table border=\"1\" class=\"dataframe\">\n",
       "  <thead>\n",
       "    <tr style=\"text-align: right;\">\n",
       "      <th></th>\n",
       "      <th>depth</th>\n",
       "    </tr>\n",
       "  </thead>\n",
       "  <tbody>\n",
       "    <tr>\n",
       "      <th>http://data.europa.eu/8mn/euroscivoc/aa115772-abcd-4903-8750-31e7739e733e</th>\n",
       "      <td>7</td>\n",
       "    </tr>\n",
       "    <tr>\n",
       "      <th>http://data.europa.eu/8mn/euroscivoc/a77e9ec8-7f65-4307-9030-80be41333538</th>\n",
       "      <td>7</td>\n",
       "    </tr>\n",
       "    <tr>\n",
       "      <th>http://data.europa.eu/8mn/euroscivoc/934ce75d-7b9c-43b2-ad73-8b46d1dcbdd3</th>\n",
       "      <td>7</td>\n",
       "    </tr>\n",
       "    <tr>\n",
       "      <th>http://data.europa.eu/8mn/euroscivoc/28d7156b-f2c0-4e72-b6a2-72480832ada4</th>\n",
       "      <td>7</td>\n",
       "    </tr>\n",
       "    <tr>\n",
       "      <th>http://data.europa.eu/8mn/euroscivoc/818e3157-3df3-448d-80af-c7822c9a58f6</th>\n",
       "      <td>7</td>\n",
       "    </tr>\n",
       "    <tr>\n",
       "      <th>http://data.europa.eu/8mn/euroscivoc/89f2e45e-af45-40f5-b25f-15fabc3579b1</th>\n",
       "      <td>7</td>\n",
       "    </tr>\n",
       "    <tr>\n",
       "      <th>http://data.europa.eu/8mn/euroscivoc/4924e464-4d3b-43cf-83b5-a3582f8b9b0a</th>\n",
       "      <td>7</td>\n",
       "    </tr>\n",
       "    <tr>\n",
       "      <th>http://data.europa.eu/8mn/euroscivoc/3c7bbe7a-db5d-4270-8141-6f8a49fa7a68</th>\n",
       "      <td>6</td>\n",
       "    </tr>\n",
       "    <tr>\n",
       "      <th>http://data.europa.eu/8mn/euroscivoc/4a54085a-ff4f-4b91-b572-472262d210d5</th>\n",
       "      <td>6</td>\n",
       "    </tr>\n",
       "    <tr>\n",
       "      <th>http://data.europa.eu/8mn/euroscivoc/cc4c298e-7c41-46b4-ac6c-6a2b71d476c5</th>\n",
       "      <td>6</td>\n",
       "    </tr>\n",
       "    <tr>\n",
       "      <th>http://data.europa.eu/8mn/euroscivoc/df8c6f43-32b3-44f4-a863-f0ac77994f7a</th>\n",
       "      <td>6</td>\n",
       "    </tr>\n",
       "    <tr>\n",
       "      <th>http://data.europa.eu/8mn/euroscivoc/343f616b-a5b8-40fb-b6b8-21acc8f89b16</th>\n",
       "      <td>6</td>\n",
       "    </tr>\n",
       "    <tr>\n",
       "      <th>http://data.europa.eu/8mn/euroscivoc/4a603b88-120c-4883-baa7-bd214a0038e1</th>\n",
       "      <td>6</td>\n",
       "    </tr>\n",
       "    <tr>\n",
       "      <th>http://data.europa.eu/8mn/euroscivoc/d20088d3-fbe0-4a35-b4f8-3b9249447002</th>\n",
       "      <td>6</td>\n",
       "    </tr>\n",
       "    <tr>\n",
       "      <th>http://data.europa.eu/8mn/euroscivoc/2d483a4d-d0b7-4c90-b174-fb06663d8e7e</th>\n",
       "      <td>6</td>\n",
       "    </tr>\n",
       "    <tr>\n",
       "      <th>http://data.europa.eu/8mn/euroscivoc/4c414391-687c-4bbb-82a3-6e648af87349</th>\n",
       "      <td>6</td>\n",
       "    </tr>\n",
       "    <tr>\n",
       "      <th>http://data.europa.eu/8mn/euroscivoc/c23291c8-1ff7-4311-9a03-c04e0047d1f4</th>\n",
       "      <td>6</td>\n",
       "    </tr>\n",
       "    <tr>\n",
       "      <th>http://data.europa.eu/8mn/euroscivoc/abadc19a-13ab-4bc6-951b-8f12226b3e8b</th>\n",
       "      <td>6</td>\n",
       "    </tr>\n",
       "    <tr>\n",
       "      <th>http://data.europa.eu/8mn/euroscivoc/a5553f24-f643-4dea-99b3-e1a6e8a869ff</th>\n",
       "      <td>6</td>\n",
       "    </tr>\n",
       "    <tr>\n",
       "      <th>http://data.europa.eu/8mn/euroscivoc/8d83b645-355f-4cf1-abf3-ce4cd3172c34</th>\n",
       "      <td>6</td>\n",
       "    </tr>\n",
       "  </tbody>\n",
       "</table>\n",
       "</div>"
      ],
      "text/plain": [
       "                                                   depth\n",
       "http://data.europa.eu/8mn/euroscivoc/aa115772-a...     7\n",
       "http://data.europa.eu/8mn/euroscivoc/a77e9ec8-7...     7\n",
       "http://data.europa.eu/8mn/euroscivoc/934ce75d-7...     7\n",
       "http://data.europa.eu/8mn/euroscivoc/28d7156b-f...     7\n",
       "http://data.europa.eu/8mn/euroscivoc/818e3157-3...     7\n",
       "http://data.europa.eu/8mn/euroscivoc/89f2e45e-a...     7\n",
       "http://data.europa.eu/8mn/euroscivoc/4924e464-4...     7\n",
       "http://data.europa.eu/8mn/euroscivoc/3c7bbe7a-d...     6\n",
       "http://data.europa.eu/8mn/euroscivoc/4a54085a-f...     6\n",
       "http://data.europa.eu/8mn/euroscivoc/cc4c298e-7...     6\n",
       "http://data.europa.eu/8mn/euroscivoc/df8c6f43-3...     6\n",
       "http://data.europa.eu/8mn/euroscivoc/343f616b-a...     6\n",
       "http://data.europa.eu/8mn/euroscivoc/4a603b88-1...     6\n",
       "http://data.europa.eu/8mn/euroscivoc/d20088d3-f...     6\n",
       "http://data.europa.eu/8mn/euroscivoc/2d483a4d-d...     6\n",
       "http://data.europa.eu/8mn/euroscivoc/4c414391-6...     6\n",
       "http://data.europa.eu/8mn/euroscivoc/c23291c8-1...     6\n",
       "http://data.europa.eu/8mn/euroscivoc/abadc19a-1...     6\n",
       "http://data.europa.eu/8mn/euroscivoc/a5553f24-f...     6\n",
       "http://data.europa.eu/8mn/euroscivoc/8d83b645-3...     6"
      ]
     },
     "execution_count": 10,
     "metadata": {},
     "output_type": "execute_result"
    }
   ],
   "source": [
    "print(\"Concepts are ranked by maximum depth\")\n",
    "list_of_depths.head(20)"
   ]
  },
  {
   "cell_type": "code",
   "execution_count": 8,
   "metadata": {},
   "outputs": [
    {
     "name": "stdout",
     "output_type": "stream",
     "text": [
      "If it does not print anything after this line, it means EuroSciVoc is monohierarchical (a narrower has only one broader)\n"
     ]
    }
   ],
   "source": [
    "print(\"If it does not print anything after this line, it means EuroSciVoc is monohierarchical (a narrower has only one broader)\")\n",
    "for k, v in broaders.items(): \n",
    "    if len(v) > 1: \n",
    "        print(\"{} has {} parents\".format(k, len(v)))"
   ]
  },
  {
   "cell_type": "code",
   "execution_count": null,
   "metadata": {},
   "outputs": [],
   "source": []
  }
 ],
 "metadata": {
  "kernelspec": {
   "display_name": "Python 3",
   "language": "python",
   "name": "python3"
  },
  "language_info": {
   "codemirror_mode": {
    "name": "ipython",
    "version": 3
   },
   "file_extension": ".py",
   "mimetype": "text/x-python",
   "name": "python",
   "nbconvert_exporter": "python",
   "pygments_lexer": "ipython3",
   "version": "3.7.5"
  }
 },
 "nbformat": 4,
 "nbformat_minor": 4
}
